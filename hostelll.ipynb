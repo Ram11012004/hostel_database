{
  "nbformat": 4,
  "nbformat_minor": 0,
  "metadata": {
    "colab": {
      "provenance": [],
      "authorship_tag": "ABX9TyPdIfiHJt9IqVdeZb6z+aa0",
      "include_colab_link": true
    },
    "kernelspec": {
      "name": "python3",
      "display_name": "Python 3"
    },
    "language_info": {
      "name": "python"
    }
  },
  "cells": [
    {
      "cell_type": "markdown",
      "metadata": {
        "id": "view-in-github",
        "colab_type": "text"
      },
      "source": [
        "<a href=\"https://colab.research.google.com/github/Ram11012004/hostel_database/blob/main/hostelll.ipynb\" target=\"_parent\"><img src=\"https://colab.research.google.com/assets/colab-badge.svg\" alt=\"Open In Colab\"/></a>"
      ]
    },
    {
      "cell_type": "code",
      "execution_count": 1,
      "metadata": {
        "colab": {
          "base_uri": "https://localhost:8080/"
        },
        "id": "wkIHKd1lLoOM",
        "outputId": "a9e178d4-c32c-478d-f82e-c89a3c33e4ba"
      },
      "outputs": [
        {
          "output_type": "stream",
          "name": "stdout",
          "text": [
            "\n",
            "Hostel Management System\n",
            "1. Add Student\n",
            "2. Add Hostel\n",
            "3. Add Warden\n",
            "4. Add Room\n",
            "5. View Students\n",
            "6. View Hostels\n",
            "7. View Wardens\n",
            "8. View Rooms\n",
            "9. Exit\n",
            "Enter your choice: 9\n",
            "Exiting the system. Goodbye!\n"
          ]
        }
      ],
      "source": [
        "# Simple Hostel Management System\n",
        "\n",
        "# Initialize empty dictionaries to store details\n",
        "students = {}\n",
        "hostels = {}\n",
        "wardens = {}\n",
        "rooms = {}\n",
        "\n",
        "def add_student():\n",
        "    student_id = input(\"Enter Student ID: \")\n",
        "    name = input(\"Enter Student Name: \")\n",
        "    room_no = input(\"Enter Room Number: \")\n",
        "    hostel_id = input(\"Enter Hostel ID: \")\n",
        "\n",
        "    students[student_id] = {\n",
        "        \"Name\": name,\n",
        "        \"Room No\": room_no,\n",
        "        \"Hostel ID\": hostel_id\n",
        "    }\n",
        "    print(\"Student added successfully!\")\n",
        "\n",
        "def add_hostel():\n",
        "    hostel_id = input(\"Enter Hostel ID: \")\n",
        "    name = input(\"Enter Hostel Name: \")\n",
        "    location = input(\"Enter Hostel Location: \")\n",
        "\n",
        "    hostels[hostel_id] = {\n",
        "        \"Name\": name,\n",
        "        \"Location\": location\n",
        "    }\n",
        "    print(\"Hostel added successfully!\")\n",
        "\n",
        "def add_warden():\n",
        "    warden_id = input(\"Enter Warden ID: \")\n",
        "    name = input(\"Enter Warden Name: \")\n",
        "    hostel_id = input(\"Enter Hostel ID: \")\n",
        "\n",
        "    wardens[warden_id] = {\n",
        "        \"Name\": name,\n",
        "        \"Hostel ID\": hostel_id\n",
        "    }\n",
        "    print(\"Warden added successfully!\")\n",
        "\n",
        "def add_room():\n",
        "    room_no = input(\"Enter Room Number: \")\n",
        "    hostel_id = input(\"Enter Hostel ID: \")\n",
        "    capacity = input(\"Enter Room Capacity: \")\n",
        "\n",
        "    rooms[room_no] = {\n",
        "        \"Hostel ID\": hostel_id,\n",
        "        \"Capacity\": capacity\n",
        "    }\n",
        "    print(\"Room added successfully!\")\n",
        "\n",
        "def view_students():\n",
        "    for student_id, details in students.items():\n",
        "        print(f\"Student ID: {student_id}\")\n",
        "        print(f\"Name: {details['Name']}\")\n",
        "        print(f\"Room No: {details['Room No']}\")\n",
        "        print(f\"Hostel ID: {details['Hostel ID']}\")\n",
        "        print(\"-\" * 20)\n",
        "\n",
        "def view_hostels():\n",
        "    for hostel_id, details in hostels.items():\n",
        "        print(f\"Hostel ID: {hostel_id}\")\n",
        "        print(f\"Name: {details['Name']}\")\n",
        "        print(f\"Location: {details['Location']}\")\n",
        "        print(\"-\" * 20)\n",
        "\n",
        "def view_wardens():\n",
        "    for warden_id, details in wardens.items():\n",
        "        print(f\"Warden ID: {warden_id}\")\n",
        "        print(f\"Name: {details['Name']}\")\n",
        "        print(f\"Hostel ID: {details['Hostel ID']}\")\n",
        "        print(\"-\" * 20)\n",
        "\n",
        "def view_rooms():\n",
        "    for room_no, details in rooms.items():\n",
        "        print(f\"Room No: {room_no}\")\n",
        "        print(f\"Hostel ID: {details['Hostel ID']}\")\n",
        "        print(f\"Capacity: {details['Capacity']}\")\n",
        "        print(\"-\" * 20)\n",
        "\n",
        "def main_menu():\n",
        "    while True:\n",
        "        print(\"\\nHostel Management System\")\n",
        "        print(\"1. Add Student\")\n",
        "        print(\"2. Add Hostel\")\n",
        "        print(\"3. Add Warden\")\n",
        "        print(\"4. Add Room\")\n",
        "        print(\"5. View Students\")\n",
        "        print(\"6. View Hostels\")\n",
        "        print(\"7. View Wardens\")\n",
        "        print(\"8. View Rooms\")\n",
        "        print(\"9. Exit\")\n",
        "\n",
        "        choice = input(\"Enter your choice: \")\n",
        "\n",
        "        if choice == \"1\":\n",
        "            add_student()\n",
        "        elif choice == \"2\":\n",
        "            add_hostel()\n",
        "        elif choice == \"3\":\n",
        "            add_warden()\n",
        "        elif choice == \"4\":\n",
        "            add_room()\n",
        "        elif choice == \"5\":\n",
        "            view_students()\n",
        "        elif choice == \"6\":\n",
        "            view_hostels()\n",
        "        elif choice == \"7\":\n",
        "            view_wardens()\n",
        "        elif choice == \"8\":\n",
        "            view_rooms()\n",
        "        elif choice == \"9\":\n",
        "            print(\"Exiting the system. Goodbye!\")\n",
        "            break\n",
        "        else:\n",
        "            print(\"Invalid choice. Please try again.\")\n",
        "\n",
        "# Run the program\n",
        "main_menu()"
      ]
    },
    {
      "cell_type": "code",
      "source": [
        "!apt-get install git\n"
      ],
      "metadata": {
        "colab": {
          "base_uri": "https://localhost:8080/"
        },
        "id": "wE90uqUGLozK",
        "outputId": "799bcd7a-0541-456e-9ffd-d9b20cb2e9f5"
      },
      "execution_count": 2,
      "outputs": [
        {
          "output_type": "stream",
          "name": "stdout",
          "text": [
            "Reading package lists... Done\n",
            "Building dependency tree... Done\n",
            "Reading state information... Done\n",
            "git is already the newest version (1:2.34.1-1ubuntu1.12).\n",
            "0 upgraded, 0 newly installed, 0 to remove and 29 not upgraded.\n"
          ]
        }
      ]
    },
    {
      "cell_type": "code",
      "source": [
        "!git clone https://github.com/Ram11012004/hostel_database.git\n"
      ],
      "metadata": {
        "colab": {
          "base_uri": "https://localhost:8080/"
        },
        "id": "ZmxfnSw0Lo11",
        "outputId": "8b9b2119-8a96-4a6d-b836-d2cdcef3c3e9"
      },
      "execution_count": 3,
      "outputs": [
        {
          "output_type": "stream",
          "name": "stdout",
          "text": [
            "Cloning into 'hostel_database'...\n",
            "remote: Enumerating objects: 8, done.\u001b[K\n",
            "remote: Counting objects: 100% (8/8), done.\u001b[K\n",
            "remote: Compressing objects: 100% (4/4), done.\u001b[K\n",
            "remote: Total 8 (delta 0), reused 0 (delta 0), pack-reused 0 (from 0)\u001b[K\n",
            "Receiving objects: 100% (8/8), done.\n"
          ]
        }
      ]
    },
    {
      "cell_type": "code",
      "source": [
        "!cp hostelll.ipynb /hostel_database/"
      ],
      "metadata": {
        "colab": {
          "base_uri": "https://localhost:8080/"
        },
        "id": "4Wjq5scyLpDP",
        "outputId": "11d3f3c8-672d-4861-ddde-79d0ddd5a205"
      },
      "execution_count": 11,
      "outputs": [
        {
          "output_type": "stream",
          "name": "stdout",
          "text": [
            "cp: cannot stat 'hostelll.ipynb': No such file or directory\n"
          ]
        }
      ]
    },
    {
      "cell_type": "code",
      "source": [
        "!pip install selenium"
      ],
      "metadata": {
        "colab": {
          "base_uri": "https://localhost:8080/"
        },
        "id": "frqBrEe5LpFl",
        "outputId": "0a041c52-7508-4c9b-ede4-5baf8566bb35"
      },
      "execution_count": 12,
      "outputs": [
        {
          "output_type": "stream",
          "name": "stdout",
          "text": [
            "Collecting selenium\n",
            "  Downloading selenium-4.30.0-py3-none-any.whl.metadata (7.5 kB)\n",
            "Requirement already satisfied: urllib3<3,>=1.26 in /usr/local/lib/python3.11/dist-packages (from urllib3[socks]<3,>=1.26->selenium) (2.3.0)\n",
            "Collecting trio~=0.17 (from selenium)\n",
            "  Downloading trio-0.29.0-py3-none-any.whl.metadata (8.5 kB)\n",
            "Collecting trio-websocket~=0.9 (from selenium)\n",
            "  Downloading trio_websocket-0.12.2-py3-none-any.whl.metadata (5.1 kB)\n",
            "Requirement already satisfied: certifi>=2021.10.8 in /usr/local/lib/python3.11/dist-packages (from selenium) (2025.1.31)\n",
            "Requirement already satisfied: typing_extensions~=4.9 in /usr/local/lib/python3.11/dist-packages (from selenium) (4.12.2)\n",
            "Requirement already satisfied: websocket-client~=1.8 in /usr/local/lib/python3.11/dist-packages (from selenium) (1.8.0)\n",
            "Requirement already satisfied: attrs>=23.2.0 in /usr/local/lib/python3.11/dist-packages (from trio~=0.17->selenium) (25.3.0)\n",
            "Requirement already satisfied: sortedcontainers in /usr/local/lib/python3.11/dist-packages (from trio~=0.17->selenium) (2.4.0)\n",
            "Requirement already satisfied: idna in /usr/local/lib/python3.11/dist-packages (from trio~=0.17->selenium) (3.10)\n",
            "Collecting outcome (from trio~=0.17->selenium)\n",
            "  Downloading outcome-1.3.0.post0-py2.py3-none-any.whl.metadata (2.6 kB)\n",
            "Requirement already satisfied: sniffio>=1.3.0 in /usr/local/lib/python3.11/dist-packages (from trio~=0.17->selenium) (1.3.1)\n",
            "Collecting wsproto>=0.14 (from trio-websocket~=0.9->selenium)\n",
            "  Downloading wsproto-1.2.0-py3-none-any.whl.metadata (5.6 kB)\n",
            "Requirement already satisfied: pysocks!=1.5.7,<2.0,>=1.5.6 in /usr/local/lib/python3.11/dist-packages (from urllib3[socks]<3,>=1.26->selenium) (1.7.1)\n",
            "Requirement already satisfied: h11<1,>=0.9.0 in /usr/local/lib/python3.11/dist-packages (from wsproto>=0.14->trio-websocket~=0.9->selenium) (0.14.0)\n",
            "Downloading selenium-4.30.0-py3-none-any.whl (9.4 MB)\n",
            "\u001b[2K   \u001b[90m━━━━━━━━━━━━━━━━━━━━━━━━━━━━━━━━━━━━━━━━\u001b[0m \u001b[32m9.4/9.4 MB\u001b[0m \u001b[31m48.5 MB/s\u001b[0m eta \u001b[36m0:00:00\u001b[0m\n",
            "\u001b[?25hDownloading trio-0.29.0-py3-none-any.whl (492 kB)\n",
            "\u001b[2K   \u001b[90m━━━━━━━━━━━━━━━━━━━━━━━━━━━━━━━━━━━━━━━━\u001b[0m \u001b[32m492.9/492.9 kB\u001b[0m \u001b[31m30.4 MB/s\u001b[0m eta \u001b[36m0:00:00\u001b[0m\n",
            "\u001b[?25hDownloading trio_websocket-0.12.2-py3-none-any.whl (21 kB)\n",
            "Downloading outcome-1.3.0.post0-py2.py3-none-any.whl (10 kB)\n",
            "Downloading wsproto-1.2.0-py3-none-any.whl (24 kB)\n",
            "Installing collected packages: wsproto, outcome, trio, trio-websocket, selenium\n",
            "Successfully installed outcome-1.3.0.post0 selenium-4.30.0 trio-0.29.0 trio-websocket-0.12.2 wsproto-1.2.0\n"
          ]
        }
      ]
    },
    {
      "cell_type": "code",
      "source": [],
      "metadata": {
        "id": "hk_P_NeMLpHv"
      },
      "execution_count": null,
      "outputs": []
    },
    {
      "cell_type": "code",
      "source": [],
      "metadata": {
        "id": "DmTS-S-ALpKT"
      },
      "execution_count": null,
      "outputs": []
    },
    {
      "cell_type": "code",
      "source": [],
      "metadata": {
        "id": "WpwkX8VkLpMx"
      },
      "execution_count": null,
      "outputs": []
    },
    {
      "cell_type": "code",
      "source": [],
      "metadata": {
        "id": "2HZfAXTlLpOz"
      },
      "execution_count": null,
      "outputs": []
    },
    {
      "cell_type": "code",
      "source": [],
      "metadata": {
        "id": "jI6avhAvLpRE"
      },
      "execution_count": null,
      "outputs": []
    }
  ]
}